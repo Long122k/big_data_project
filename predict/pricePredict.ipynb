{
 "cells": [
  {
   "cell_type": "code",
   "execution_count": 1,
   "metadata": {},
   "outputs": [],
   "source": [
    "import findspark\n",
    "findspark.init()\n"
   ]
  },
  {
   "cell_type": "code",
   "execution_count": 2,
   "metadata": {},
   "outputs": [],
   "source": [
    "from pyspark.context import SparkContext, SparkConf\n",
    "from pyspark.sql.session import SparkSession\n",
    "from pyspark.sql.functions import *"
   ]
  },
  {
   "cell_type": "code",
   "execution_count": 3,
   "metadata": {},
   "outputs": [],
   "source": [
    "spark = SparkSession.builder.master(\"spark://192.168.31.120:7077\").appName(\"Bigdata66\").getOrCreate()"
   ]
  },
  {
   "cell_type": "code",
   "execution_count": 4,
   "metadata": {},
   "outputs": [],
   "source": [
    "df= spark.read.format(\"csv\").options(header=\"True\", inferSchema = \"True\").load(\"hdfs://192.168.31.120:9000/goldData1.csv\")"
   ]
  },
  {
   "cell_type": "code",
   "execution_count": 7,
   "metadata": {},
   "outputs": [
    {
     "name": "stdout",
     "output_type": "stream",
     "text": [
      "+---+-------------+---------+---------+--------+--------+--------------------+--------+------+-------------+\n",
      "|_c0|spreadProfile|bidSpread|askSpread|     bid|     ask|                time|platform|server|           ts|\n",
      "+---+-------------+---------+---------+--------+--------+--------------------+--------+------+-------------+\n",
      "|  0|        Prime|     11.4|     11.3|1829.036|1829.613|2022-01-01 12:03:...|     MT5| Live1|1640984684508|\n",
      "|  1|     Standard|     14.1|     14.1|1829.009|1829.641|2022-01-01 12:03:...|     MT5| Live1|1640984684508|\n",
      "|  2|      Premium|     12.8|     12.7|1829.022|1829.627|2022-01-01 12:03:...|     MT5| Live1|1640984684508|\n",
      "|  3|        Prime|     17.5|     17.5|1828.975|1829.675|2022-01-01 12:03:...|     MT4| Real2|1640984684522|\n",
      "|  4|     Standard|     25.0|     25.0|  1828.9| 1829.75|2022-01-01 12:03:...|     MT4| Real2|1640984684522|\n",
      "|  5|     Standard|      6.4|      6.3|1829.086|1829.563|2022-01-01 12:03:...|     MT4| Live2|1640984684531|\n",
      "|  6|        Prime|      3.9|      3.8|1829.111|1829.538|2022-01-01 12:03:...|     MT4| Live2|1640984684531|\n",
      "|  7|      Premium|      4.9|      4.8|1829.101|1829.548|2022-01-01 12:03:...|     MT4| Live2|1640984684531|\n",
      "|  8|        Prime|     11.4|     11.3|1829.036|1829.613|2022-01-01 12:03:...|     MT4| Live1|1640984684533|\n",
      "|  9|     Standard|     14.1|     14.1|1829.009|1829.641|2022-01-01 12:03:...|     MT4| Live1|1640984684533|\n",
      "| 10|      Premium|     12.8|     12.7|1829.022|1829.627|2022-01-01 12:03:...|     MT4| Live1|1640984684533|\n",
      "| 11|        Prime|     17.5|     17.5|1828.975|1829.675|2022-01-01 12:03:...|     MT4|RealUK|1640984684544|\n",
      "| 12|      Premium|     12.7|     12.7|1829.023|1829.627|2022-01-01 12:03:...|     MT4| Live5|1640984684550|\n",
      "| 13|        Elite|      4.8|      4.8|1829.102|1829.548|2022-01-01 12:03:...|     MT4| Live5|1640984684550|\n",
      "| 14|        Prime|     11.3|     11.3|1829.037|1829.613|2022-01-01 12:03:...|     MT4| Live5|1640984684550|\n",
      "| 15|        Elite|     11.3|     11.3|1829.027|1829.593|2022-01-01 12:03:...|     MT4| Live7|1640984684561|\n",
      "| 16|        Prime|     11.3|     11.3|1829.027|1829.593|2022-01-01 12:03:...|     MT4| Live7|1640984684561|\n",
      "| 17|        Prime|     17.5|     17.5|1828.945|1829.645|2022-01-01 12:03:...|     MT4| Real6|1640984684568|\n",
      "| 18|        Prime|     11.4|     11.3|1829.006|1829.583|2022-01-01 12:03:...|     MT4| Live6|1640984684574|\n",
      "| 19|     Standard|     14.1|     14.1|1828.979|1829.611|2022-01-01 12:03:...|     MT4| Live6|1640984684574|\n",
      "+---+-------------+---------+---------+--------+--------+--------------------+--------+------+-------------+\n",
      "only showing top 20 rows\n",
      "\n"
     ]
    }
   ],
   "source": [
    "df.show()"
   ]
  },
  {
   "cell_type": "code",
   "execution_count": 5,
   "metadata": {},
   "outputs": [
    {
     "name": "stdout",
     "output_type": "stream",
     "text": [
      "root\n",
      " |-- _c0: integer (nullable = true)\n",
      " |-- spreadProfile: string (nullable = true)\n",
      " |-- bidSpread: double (nullable = true)\n",
      " |-- askSpread: double (nullable = true)\n",
      " |-- bid: double (nullable = true)\n",
      " |-- ask: double (nullable = true)\n",
      " |-- time: string (nullable = true)\n",
      " |-- platform: string (nullable = true)\n",
      " |-- server: string (nullable = true)\n",
      " |-- ts: long (nullable = true)\n",
      "\n"
     ]
    }
   ],
   "source": [
    "df.cache()\n",
    "df.printSchema()"
   ]
  },
  {
   "cell_type": "code",
   "execution_count": 10,
   "metadata": {},
   "outputs": [
    {
     "data": {
      "text/plain": [
       "['_c0',\n",
       " 'spreadProfile',\n",
       " 'bidSpread',\n",
       " 'askSpread',\n",
       " 'bid',\n",
       " 'ask',\n",
       " 'time',\n",
       " 'platform',\n",
       " 'server',\n",
       " 'ts']"
      ]
     },
     "execution_count": 10,
     "metadata": {},
     "output_type": "execute_result"
    }
   ],
   "source": [
    "df.columns"
   ]
  },
  {
   "cell_type": "code",
   "execution_count": 11,
   "metadata": {},
   "outputs": [],
   "source": [
    "from pyspark.ml.feature import StringIndexer\n",
    "\n",
    "inputs = ['spreadProfile', 'platform', 'server']\n",
    "outputs = ['nSpreadProfile', 'nPlatform', 'nServer']\n",
    "indexer = StringIndexer(inputCols=inputs, outputCols=outputs)\n",
    "indexed = indexer.fit(df).transform(df)"
   ]
  },
  {
   "cell_type": "code",
   "execution_count": 12,
   "metadata": {},
   "outputs": [
    {
     "name": "stdout",
     "output_type": "stream",
     "text": [
      "Row(_c0=0, spreadProfile='Prime', bidSpread=11.4, askSpread=11.3, bid=1829.036, ask=1829.613, time='2022-01-01 12:03:14.711000', platform='MT5', server='Live1', ts=1640984684508, nSpreadProfile=0.0, nPlatform=2.0, nServer=0.0)\n",
      "Row(_c0=1, spreadProfile='Standard', bidSpread=14.1, askSpread=14.1, bid=1829.009, ask=1829.641, time='2022-01-01 12:03:14.711000', platform='MT5', server='Live1', ts=1640984684508, nSpreadProfile=2.0, nPlatform=2.0, nServer=0.0)\n",
      "Row(_c0=2, spreadProfile='Premium', bidSpread=12.8, askSpread=12.7, bid=1829.022, ask=1829.627, time='2022-01-01 12:03:14.711000', platform='MT5', server='Live1', ts=1640984684508, nSpreadProfile=1.0, nPlatform=2.0, nServer=0.0)\n",
      "Row(_c0=3, spreadProfile='Prime', bidSpread=17.5, askSpread=17.5, bid=1828.975, ask=1829.675, time='2022-01-01 12:03:14.711000', platform='MT4', server='Real2', ts=1640984684522, nSpreadProfile=0.0, nPlatform=0.0, nServer=6.0)\n",
      "Row(_c0=4, spreadProfile='Standard', bidSpread=25.0, askSpread=25.0, bid=1828.9, ask=1829.75, time='2022-01-01 12:03:14.711000', platform='MT4', server='Real2', ts=1640984684522, nSpreadProfile=2.0, nPlatform=0.0, nServer=6.0)\n"
     ]
    }
   ],
   "source": [
    "for item in indexed.head(5):\n",
    "    print(item)"
   ]
  },
  {
   "cell_type": "code",
   "execution_count": 13,
   "metadata": {},
   "outputs": [
    {
     "name": "stdout",
     "output_type": "stream",
     "text": [
      "+--------------------+--------+--------+\n",
      "|            features|     bid|     ask|\n",
      "+--------------------+--------+--------+\n",
      "|[11.4,11.3,1.6409...|1829.036|1829.613|\n",
      "|[14.1,14.1,1.6409...|1829.009|1829.641|\n",
      "|[12.8,12.7,1.6409...|1829.022|1829.627|\n",
      "|[17.5,17.5,1.6409...|1828.975|1829.675|\n",
      "|[25.0,25.0,1.6409...|  1828.9| 1829.75|\n",
      "+--------------------+--------+--------+\n",
      "only showing top 5 rows\n",
      "\n"
     ]
    }
   ],
   "source": [
    "from pyspark.ml.linalg import Vectors\n",
    "from pyspark.ml.feature import VectorAssembler\n",
    "\n",
    "assembler = VectorAssembler(inputCols = [\n",
    "    'bidSpread',\n",
    "    'askSpread',\n",
    "    'ts',\n",
    "    'nSpreadProfile',\n",
    "    'nPlatform',\n",
    "    'nServer'], outputCol ='features')\n",
    "output=assembler.transform(indexed)\n",
    "output.select('features', 'bid', 'ask').show(5)"
   ]
  },
  {
   "cell_type": "code",
   "execution_count": 14,
   "metadata": {},
   "outputs": [
    {
     "name": "stdout",
     "output_type": "stream",
     "text": [
      "+-------+-------------------+-------------------+\n",
      "|summary|                bid|                ask|\n",
      "+-------+-------------------+-------------------+\n",
      "|  count|             328193|             328193|\n",
      "|   mean| 1829.1018999883315|  1829.605483019441|\n",
      "| stddev|0.11683682143391022|0.04613097495157919|\n",
      "|    min|             1828.9|           1829.508|\n",
      "|    max|           1829.321|            1829.75|\n",
      "+-------+-------------------+-------------------+\n",
      "\n"
     ]
    }
   ],
   "source": [
    "final_data = output.select('features', 'bid', 'ask')\n",
    "train_data, test_data = final_data.randomSplit([0.7, 0.3])\n",
    "train_data.describe().show()"
   ]
  },
  {
   "cell_type": "code",
   "execution_count": 15,
   "metadata": {},
   "outputs": [
    {
     "name": "stdout",
     "output_type": "stream",
     "text": [
      "+-------+-------------------+-------------------+\n",
      "|summary|                bid|                ask|\n",
      "+-------+-------------------+-------------------+\n",
      "|  count|             140671|             140671|\n",
      "|   mean| 1829.1024698903714| 1829.6054160133656|\n",
      "| stddev|0.11706345723559733|0.04616017140401893|\n",
      "|    min|             1828.9|           1829.508|\n",
      "|    max|           1829.321|            1829.75|\n",
      "+-------+-------------------+-------------------+\n",
      "\n"
     ]
    }
   ],
   "source": [
    "test_data.describe().show()"
   ]
  },
  {
   "cell_type": "code",
   "execution_count": 16,
   "metadata": {},
   "outputs": [
    {
     "name": "stdout",
     "output_type": "stream",
     "text": [
      "Rsquared bid error:  0.9829367014809114\n",
      "Rsquared ask error:  0.9566633067640856\n"
     ]
    }
   ],
   "source": [
    "from pyspark.ml.regression import LinearRegression\n",
    "\n",
    "bid_lr = LinearRegression(featuresCol = 'features', labelCol = 'bid')\n",
    "ask_lr = LinearRegression(featuresCol = 'features', labelCol = 'ask')\n",
    "train_bid_model = bid_lr.fit(train_data)\n",
    "train_ask_model = ask_lr.fit(train_data)\n",
    "bid_results = train_bid_model.evaluate(train_data)\n",
    "ask_results = train_ask_model.evaluate(train_data)\n",
    "\n",
    "print(\"Rsquared bid error: \", bid_results.r2)\n",
    "print(\"Rsquared ask error: \", ask_results.r2)"
   ]
  },
  {
   "cell_type": "code",
   "execution_count": 17,
   "metadata": {},
   "outputs": [],
   "source": [
    "bid_test_data = test_data.select('features', 'bid')\n",
    "ask_test_data = test_data.select('features', 'ask')\n",
    "\n"
   ]
  },
  {
   "cell_type": "code",
   "execution_count": 18,
   "metadata": {},
   "outputs": [
    {
     "name": "stdout",
     "output_type": "stream",
     "text": [
      "+--------------------+--------+----------------+\n",
      "|            features|     bid|      prediction|\n",
      "+--------------------+--------+----------------+\n",
      "|[3.9,3.8,1.640984...|1829.111|1829.10707740117|\n",
      "+--------------------+--------+----------------+\n",
      "only showing top 1 row\n",
      "\n"
     ]
    }
   ],
   "source": [
    "bid_prediction = train_bid_model.transform(bid_test_data)\n",
    "bid_prediction.show(1)"
   ]
  },
  {
   "cell_type": "code",
   "execution_count": 19,
   "metadata": {},
   "outputs": [
    {
     "name": "stdout",
     "output_type": "stream",
     "text": [
      "+--------------------+--------+------------------+\n",
      "|            features|     ask|        prediction|\n",
      "+--------------------+--------+------------------+\n",
      "|[3.9,3.8,1.640984...|1829.538|1829.5317037398004|\n",
      "+--------------------+--------+------------------+\n",
      "only showing top 1 row\n",
      "\n"
     ]
    }
   ],
   "source": [
    "ask_prediction = train_ask_model.transform(ask_test_data)\n",
    "ask_prediction.show(1)"
   ]
  },
  {
   "cell_type": "code",
   "execution_count": 6,
   "metadata": {},
   "outputs": [],
   "source": [
    "df.createOrReplaceTempView(\"goldPrice\")"
   ]
  },
  {
   "cell_type": "code",
   "execution_count": 21,
   "metadata": {},
   "outputs": [
    {
     "name": "stdout",
     "output_type": "stream",
     "text": [
      "+---+-------------+---------+---------+--------+--------+--------------------+--------+------+-------------+\n",
      "|_c0|spreadProfile|bidSpread|askSpread|     bid|     ask|                time|platform|server|           ts|\n",
      "+---+-------------+---------+---------+--------+--------+--------------------+--------+------+-------------+\n",
      "|  0|        Prime|     11.4|     11.3|1829.036|1829.613|2022-01-01 12:03:...|     MT5| Live1|1640984684508|\n",
      "|  1|     Standard|     14.1|     14.1|1829.009|1829.641|2022-01-01 12:03:...|     MT5| Live1|1640984684508|\n",
      "|  2|      Premium|     12.8|     12.7|1829.022|1829.627|2022-01-01 12:03:...|     MT5| Live1|1640984684508|\n",
      "|  3|        Prime|     17.5|     17.5|1828.975|1829.675|2022-01-01 12:03:...|     MT4| Real2|1640984684522|\n",
      "|  4|     Standard|     25.0|     25.0|  1828.9| 1829.75|2022-01-01 12:03:...|     MT4| Real2|1640984684522|\n",
      "|  5|     Standard|      6.4|      6.3|1829.086|1829.563|2022-01-01 12:03:...|     MT4| Live2|1640984684531|\n",
      "|  6|        Prime|      3.9|      3.8|1829.111|1829.538|2022-01-01 12:03:...|     MT4| Live2|1640984684531|\n",
      "|  7|      Premium|      4.9|      4.8|1829.101|1829.548|2022-01-01 12:03:...|     MT4| Live2|1640984684531|\n",
      "|  8|        Prime|     11.4|     11.3|1829.036|1829.613|2022-01-01 12:03:...|     MT4| Live1|1640984684533|\n",
      "|  9|     Standard|     14.1|     14.1|1829.009|1829.641|2022-01-01 12:03:...|     MT4| Live1|1640984684533|\n",
      "+---+-------------+---------+---------+--------+--------+--------------------+--------+------+-------------+\n",
      "only showing top 10 rows\n",
      "\n"
     ]
    }
   ],
   "source": [
    "spark.sql(\"\"\"SELECT * from goldPrice\"\"\").show(10)"
   ]
  },
  {
   "cell_type": "code",
   "execution_count": 10,
   "metadata": {},
   "outputs": [
    {
     "name": "stdout",
     "output_type": "stream",
     "text": [
      "+--------+\n",
      "|count(1)|\n",
      "+--------+\n",
      "|  468864|\n",
      "+--------+\n",
      "\n"
     ]
    }
   ],
   "source": [
    "spark.sql(\"\"\"select count(*) from goldPrice\"\"\").show()"
   ]
  },
  {
   "cell_type": "code",
   "execution_count": 10,
   "metadata": {},
   "outputs": [
    {
     "name": "stdout",
     "output_type": "stream",
     "text": [
      "+------+-------------+---------+---------+--------+--------+--------------------+\n",
      "|   _c0|spreadProfile|bidSpread|askSpread|     bid|     ask|                time|\n",
      "+------+-------------+---------+---------+--------+--------+--------------------+\n",
      "|286518|        Prime|      3.9|      3.8|1829.321|1829.508|2022-01-02 02:01:...|\n",
      "|286638|        Prime|      3.9|      3.8|1829.321|1829.508|2022-01-02 02:01:...|\n",
      "|286542|        Prime|      3.9|      3.8|1829.321|1829.508|2022-01-02 02:01:...|\n",
      "|286446|        Prime|      3.9|      3.8|1829.321|1829.508|2022-01-02 02:01:...|\n",
      "|286566|        Prime|      3.9|      3.8|1829.321|1829.508|2022-01-02 02:01:...|\n",
      "+------+-------------+---------+---------+--------+--------+--------------------+\n",
      "only showing top 5 rows\n",
      "\n"
     ]
    }
   ],
   "source": [
    "spark.sql(\"\"\"select _c0,spreadProfile, bidSpread, askSpread, bid, ask, time from goldPrice order by bid desc\"\"\").show(5)"
   ]
  },
  {
   "cell_type": "code",
   "execution_count": 11,
   "metadata": {},
   "outputs": [
    {
     "name": "stdout",
     "output_type": "stream",
     "text": [
      "+---+-------------+---------+---------+------+-------+--------------------+\n",
      "|_c0|spreadProfile|bidSpread|askSpread|   bid|    ask|                time|\n",
      "+---+-------------+---------+---------+------+-------+--------------------+\n",
      "| 52|     Standard|     25.0|     25.0|1828.9|1829.75|2022-01-01 12:03:...|\n",
      "|172|     Standard|     25.0|     25.0|1828.9|1829.75|2022-01-01 12:03:...|\n",
      "| 76|     Standard|     25.0|     25.0|1828.9|1829.75|2022-01-01 12:03:...|\n",
      "|  4|     Standard|     25.0|     25.0|1828.9|1829.75|2022-01-01 12:03:...|\n",
      "|100|     Standard|     25.0|     25.0|1828.9|1829.75|2022-01-01 12:03:...|\n",
      "+---+-------------+---------+---------+------+-------+--------------------+\n",
      "only showing top 5 rows\n",
      "\n"
     ]
    }
   ],
   "source": [
    "spark.sql(\"\"\"select _c0,spreadProfile, bidSpread, askSpread, bid, ask, time from goldPrice order by ask desc\"\"\").show(5)"
   ]
  },
  {
   "cell_type": "code",
   "execution_count": 22,
   "metadata": {},
   "outputs": [
    {
     "name": "stdout",
     "output_type": "stream",
     "text": [
      "+---+-------------+---------+---------+--------+--------+--------------------+--------+------+-------------+\n",
      "|_c0|spreadProfile|bidSpread|askSpread|     bid|     ask|                time|platform|server|           ts|\n",
      "+---+-------------+---------+---------+--------+--------+--------------------+--------+------+-------------+\n",
      "|  5|     Standard|      6.4|      6.3|1829.086|1829.563|2022-01-01 12:03:...|     MT4| Live2|1640984684531|\n",
      "|  6|        Prime|      3.9|      3.8|1829.111|1829.538|2022-01-01 12:03:...|     MT4| Live2|1640984684531|\n",
      "|  7|      Premium|      4.9|      4.8|1829.101|1829.548|2022-01-01 12:03:...|     MT4| Live2|1640984684531|\n",
      "| 29|     Standard|      6.4|      6.3|1829.086|1829.563|2022-01-01 12:03:...|     MT4| Live2|1640984684531|\n",
      "| 30|        Prime|      3.9|      3.8|1829.111|1829.538|2022-01-01 12:03:...|     MT4| Live2|1640984684531|\n",
      "| 31|      Premium|      4.9|      4.8|1829.101|1829.548|2022-01-01 12:03:...|     MT4| Live2|1640984684531|\n",
      "| 53|     Standard|      6.4|      6.3|1829.086|1829.563|2022-01-01 12:03:...|     MT4| Live2|1640984684531|\n",
      "| 54|        Prime|      3.9|      3.8|1829.111|1829.538|2022-01-01 12:03:...|     MT4| Live2|1640984684531|\n",
      "| 55|      Premium|      4.9|      4.8|1829.101|1829.548|2022-01-01 12:03:...|     MT4| Live2|1640984684531|\n",
      "| 77|     Standard|      6.4|      6.3|1829.086|1829.563|2022-01-01 12:03:...|     MT4| Live2|1640984684531|\n",
      "+---+-------------+---------+---------+--------+--------+--------------------+--------+------+-------------+\n",
      "only showing top 10 rows\n",
      "\n"
     ]
    }
   ],
   "source": [
    "spark.sql(\"\"\"SELECT * from goldPrice where platform= 'MT4' and server='Live2'\"\"\").show(10)"
   ]
  }
 ],
 "metadata": {
  "kernelspec": {
   "display_name": "Python 3",
   "language": "python",
   "name": "python3"
  },
  "language_info": {
   "codemirror_mode": {
    "name": "ipython",
    "version": 3
   },
   "file_extension": ".py",
   "mimetype": "text/x-python",
   "name": "python",
   "nbconvert_exporter": "python",
   "pygments_lexer": "ipython3",
   "version": "3.8.10"
  }
 },
 "nbformat": 4,
 "nbformat_minor": 4
}
